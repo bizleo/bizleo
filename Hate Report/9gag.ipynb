{
 "cells": [
  {
   "cell_type": "code",
   "execution_count": 1,
   "metadata": {},
   "outputs": [
    {
     "name": "stdout",
     "output_type": "stream",
     "text": [
      "Top 5 Hot Post URLs:\n"
     ]
    }
   ],
   "source": [
    "import requests\n",
    "from bs4 import BeautifulSoup\n",
    "\n",
    "# URL of 9GAG's hot page (Note: may not fully load posts due to JavaScript)\n",
    "url = \"https://9gag.com\"\n",
    "\n",
    "# Send a GET request to 9GAG's hot section\n",
    "response = requests.get(url)\n",
    "\n",
    "# Check if the request was successful\n",
    "if response.status_code == 200:\n",
    "    # Parse the HTML content\n",
    "    soup = BeautifulSoup(response.text, 'html.parser')\n",
    "\n",
    "    # Initialize an empty list to store post URLs\n",
    "    post_links = []\n",
    "    \n",
    "    # Try to find the post links in the static HTML\n",
    "    for post in soup.select('article > a', limit=5):  # Limit to top 5 posts\n",
    "        print(post)\n",
    "        href = post.get('href')\n",
    "        if href:\n",
    "            post_links.append(\"https://9gag.com\" + href)\n",
    "    \n",
    "    # Print the results\n",
    "    print(\"Top 5 Hot Post URLs:\")\n",
    "    for link in post_links:\n",
    "        print(link)\n",
    "else:\n",
    "    print(\"Failed to retrieve the page.\")\n"
   ]
  },
  {
   "cell_type": "code",
   "execution_count": null,
   "metadata": {},
   "outputs": [],
   "source": []
  },
  {
   "cell_type": "code",
   "execution_count": null,
   "metadata": {},
   "outputs": [],
   "source": [
    "from selenium import webdriver\n",
    "from selenium.webdriver.chrome.service import Service\n",
    "from bs4 import BeautifulSoup\n",
    "import time\n",
    "\n",
    "# Path to your ChromeDriver\n",
    "chrome_driver_path = \"C:\\Program Files\\Google\\Chrome\\Application\\chrome.exe\"\n",
    "\n",
    "# Setting up Selenium\n",
    "service = Service(chrome_driver_path)\n",
    "driver = webdriver.Chrome(service=service)\n",
    "\n",
    "try:\n",
    "    # Go to 9GAG hot section\n",
    "    driver.get(\"https://9gag.com\")\n",
    "\n",
    "    # Wait for the page to load\n",
    "    time.sleep(3)  # Adjust if needed based on internet speed\n",
    "\n",
    "    # Get page source and parse with BeautifulSoup\n",
    "    soup = BeautifulSoup(driver.page_source, 'html.parser')\n",
    "    \n",
    "    # Find post links\n",
    "    post_links = []\n",
    "    for post in soup.select('article > a', limit=5):  # Finds the first 5 articles\n",
    "        url = post.get('href')\n",
    "        if url:\n",
    "            post_links.append(\"https://9gag.com\" + url)\n",
    "    \n",
    "    # Print URLs of the top 5 hot posts\n",
    "    print(\"Top 5 Hot Post URLs:\")\n",
    "    for link in post_links:\n",
    "        print(link)\n",
    "\n",
    "finally:\n",
    "    driver.quit()\n"
   ]
  },
  {
   "cell_type": "code",
   "execution_count": null,
   "metadata": {},
   "outputs": [],
   "source": []
  },
  {
   "cell_type": "code",
   "execution_count": null,
   "metadata": {},
   "outputs": [],
   "source": []
  },
  {
   "cell_type": "code",
   "execution_count": 1,
   "metadata": {},
   "outputs": [],
   "source": [
    "import requests\n",
    "\n",
    "class NineGagClient:\n",
    "    def __init__(self):\n",
    "        self.base_url = \"https://img-9gag-fun.9cache.com/photo/\"\n",
    "\n",
    "    def get_post(self, post_id):\n",
    "        \"\"\"\n",
    "        Fetches the media for a given post ID on 9GAG.\n",
    "        \n",
    "        Args:\n",
    "            post_id (str): The unique identifier for the 9GAG post.\n",
    "\n",
    "        Returns:\n",
    "            dict: Contains 'url', 'status_code', and 'content' if successful; otherwise, an error message.\n",
    "        \"\"\"\n",
    "        url = f\"{self.base_url}{post_id}_460svav1.mp4\"\n",
    "        try:\n",
    "            response = requests.get(url)\n",
    "            if response.status_code == 200:\n",
    "                print(\"okay\")\n",
    "                return {\n",
    "                    \"url\": url,\n",
    "                    \"status_code\": response.status_code,\n",
    "                    # \"content\": response.content\n",
    "                }\n",
    "            else:\n",
    "                print(\"not okay\")\n",
    "                return {\n",
    "                    \"error\": \"Post not found or access denied\",\n",
    "                    \"status_code\": response.status_code\n",
    "                }\n",
    "        except requests.RequestException as e:\n",
    "            return {\"error\": f\"Request failed: {e}\"}\n",
    "\n"
   ]
  },
  {
   "cell_type": "code",
   "execution_count": null,
   "metadata": {},
   "outputs": [],
   "source": []
  },
  {
   "cell_type": "code",
   "execution_count": null,
   "metadata": {},
   "outputs": [],
   "source": [
    "# Example usage\n",
    "client = NineGagClient()\n",
    "post_data = client.get_post(\"aAygK0L\")\n",
    "print(post_data)"
   ]
  },
  {
   "cell_type": "code",
   "execution_count": null,
   "metadata": {},
   "outputs": [],
   "source": [
    "type(post_data)"
   ]
  },
  {
   "cell_type": "code",
   "execution_count": null,
   "metadata": {},
   "outputs": [],
   "source": []
  },
  {
   "cell_type": "code",
   "execution_count": null,
   "metadata": {},
   "outputs": [],
   "source": []
  }
 ],
 "metadata": {
  "kernelspec": {
   "display_name": "pybiz",
   "language": "python",
   "name": "python3"
  },
  "language_info": {
   "codemirror_mode": {
    "name": "ipython",
    "version": 3
   },
   "file_extension": ".py",
   "mimetype": "text/x-python",
   "name": "python",
   "nbconvert_exporter": "python",
   "pygments_lexer": "ipython3",
   "version": "3.10.15"
  }
 },
 "nbformat": 4,
 "nbformat_minor": 2
}
