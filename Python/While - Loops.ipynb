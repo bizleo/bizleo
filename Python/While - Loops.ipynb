{
 "cells": [
  {
   "cell_type": "code",
   "execution_count": 9,
   "metadata": {},
   "outputs": [
    {
     "name": "stdout",
     "output_type": "stream",
     "text": [
      "21\n",
      "hi\n"
     ]
    }
   ],
   "source": [
    "total1 = 0       # keep running the sequence till some statement is true\n",
    "j = 1              # we can make For loops into while loops, eg\n",
    "while j < 5:\n",
    "    total1 += j\n",
    "    j += 1\n",
    "print(total1)"
   ]
  },
  {
   "cell_type": "code",
   "execution_count": 10,
   "metadata": {},
   "outputs": [
    {
     "name": "stdout",
     "output_type": "stream",
     "text": [
      "19\n"
     ]
    }
   ],
   "source": [
    "listdec= [5,4,3,3,2,2,-1,-3] # for a given descresnt list, let sum the positive numbers\n",
    "total2=0\n",
    "i=0\n",
    "while listdec[i] > 0:           # if the list only has postive numbers, we correct the code using 'and if i < len(listdec)'\n",
    "    total2 += listdec[i]\n",
    "    i += 1\n",
    "print(total2)"
   ]
  },
  {
   "cell_type": "code",
   "execution_count": 15,
   "metadata": {},
   "outputs": [
    {
     "name": "stdout",
     "output_type": "stream",
     "text": [
      "-14\n"
     ]
    }
   ],
   "source": [
    "listdec2= [5,4,3,3,2,2,-1,-3,-10]  # exercise, do the sum of negative numbers usings a while loop\n",
    "total3=0\n",
    "i= len(listdec2)-1\n",
    "while listdec2[i] < 0:           # if the list only has postive numbers, we correct the code using 'and if i < len(listdec)'\n",
    "    total3 += listdec2[i]\n",
    "    i = i -1\n",
    "print(total3)\n"
   ]
  },
  {
   "cell_type": "code",
   "execution_count": null,
   "metadata": {},
   "outputs": [],
   "source": []
  }
 ],
 "metadata": {
  "kernelspec": {
   "display_name": "Python 3",
   "language": "python",
   "name": "python3"
  },
  "language_info": {
   "codemirror_mode": {
    "name": "ipython",
    "version": 3
   },
   "file_extension": ".py",
   "mimetype": "text/x-python",
   "name": "python",
   "nbconvert_exporter": "python",
   "pygments_lexer": "ipython3",
   "version": "3.8.5"
  }
 },
 "nbformat": 4,
 "nbformat_minor": 4
}
