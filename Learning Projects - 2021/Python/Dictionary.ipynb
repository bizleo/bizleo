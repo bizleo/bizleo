{
 "cells": [
  {
   "cell_type": "code",
   "execution_count": 1,
   "metadata": {},
   "outputs": [],
   "source": [
    "d = {}     # we can define our own dictionary to assosciate some keys with values, for example\n",
    "d= { 'Jose': 24, 'Maria': 18}\n",
    "d['Leonardo']=27 #add definitions to the dictioary'\n",
    "d['Floriano']=20\n",
    "d['Matheus']=26   #or"
   ]
  },
  {
   "cell_type": "code",
   "execution_count": 2,
   "metadata": {},
   "outputs": [
    {
     "name": "stdout",
     "output_type": "stream",
     "text": [
      "{'Jose': 24, 'Maria': 18, 'Leonardo': 27, 'Floriano': 20, 'Matheus': 26}\n"
     ]
    }
   ],
   "source": [
    "print(d)"
   ]
  },
  {
   "cell_type": "code",
   "execution_count": 3,
   "metadata": {},
   "outputs": [
    {
     "name": "stdout",
     "output_type": "stream",
     "text": [
      "name\n",
      "Jose\n",
      "age\n",
      "24\n",
      " \n",
      "name\n",
      "Maria\n",
      "age\n",
      "18\n",
      " \n",
      "name\n",
      "Leonardo\n",
      "age\n",
      "27\n",
      " \n",
      "name\n",
      "Floriano\n",
      "age\n",
      "20\n",
      " \n",
      "name\n",
      "Matheus\n",
      "age\n",
      "26\n",
      " \n"
     ]
    }
   ],
   "source": [
    "for name, age in d.items():\n",
    "    print('name')\n",
    "    print(name)\n",
    "    print('age')\n",
    "    print(age)\n",
    "    print(' ')"
   ]
  },
  {
   "cell_type": "code",
   "execution_count": null,
   "metadata": {},
   "outputs": [],
   "source": []
  },
  {
   "cell_type": "code",
   "execution_count": null,
   "metadata": {},
   "outputs": [],
   "source": []
  }
 ],
 "metadata": {
  "kernelspec": {
   "display_name": "Python 3",
   "language": "python",
   "name": "python3"
  },
  "language_info": {
   "codemirror_mode": {
    "name": "ipython",
    "version": 3
   },
   "file_extension": ".py",
   "mimetype": "text/x-python",
   "name": "python",
   "nbconvert_exporter": "python",
   "pygments_lexer": "ipython3",
   "version": "3.8.5"
  }
 },
 "nbformat": 4,
 "nbformat_minor": 4
}
